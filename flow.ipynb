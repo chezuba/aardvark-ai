{
 "cells": [
  {
   "cell_type": "code",
   "execution_count": 1,
   "metadata": {},
   "outputs": [],
   "source": [
    "from langchain_openai import AzureOpenAI\n",
    "from dotenv import load_dotenv\n",
    "import os\n",
    "\n",
    "from azure.identity import DefaultAzureCredential, get_bearer_token_provider\n",
    "\n",
    "\n",
    "load_dotenv()\n",
    "os.environ[\"OPENAI_API_KEY\"] = \"d32f09fb8518488ca5216bbea611cdb2\"\n",
    "azure_credential = DefaultAzureCredential(exclude_managed_identity_credential=True)\n",
    "\n",
    "llm = AzureOpenAI(\n",
    "    api_version=\"2024-02-15-preview\",\n",
    "    azure_endpoint=\"https://sapiens-openai.openai.azure.com\",\n",
    "    azure_deployment=\"gpt-35-turbo\"\n",
    ")"
   ]
  },
  {
   "cell_type": "code",
   "execution_count": 2,
   "metadata": {},
   "outputs": [],
   "source": [
    "import os\n",
    "\n",
    "os.environ[\"BING_SUBSCRIPTION_KEY\"] = \"3604a9a909b64c40938e28e9232f4c57\"\n",
    "os.environ[\"BING_SEARCH_URL\"] = \"https://api.bing.microsoft.com/v7.0/search\""
   ]
  },
  {
   "cell_type": "code",
   "execution_count": 3,
   "metadata": {},
   "outputs": [
    {
     "data": {
      "text/plain": [
       "('bing_search',\n",
       " 'A wrapper around Bing Search. Useful for when you need to answer questions about current events. Input should be a search query.')"
      ]
     },
     "execution_count": 3,
     "metadata": {},
     "output_type": "execute_result"
    }
   ],
   "source": [
    "from langchain.agents import load_tools\n",
    "\n",
    "tools = load_tools([\"bing-search\"], llm=llm)\n",
    "tools[0].name, tools[0].description"
   ]
  },
  {
   "cell_type": "code",
   "execution_count": 39,
   "metadata": {},
   "outputs": [
    {
     "name": "stdout",
     "output_type": "stream",
     "text": [
      "Answer the following questions as best you can. You have access to the following tools:\n",
      "\n",
      "bing_search - A wrapper around Bing Search. Useful for when you need to answer questions about current events. Input should be a search query.\n",
      "\n",
      "Use the following format:\n",
      "\n",
      "Question: the input question you must answer\n",
      "Thought: you should always think about what to do\n",
      "Action: the action to take, should be one of [bing_search]\n",
      "Action Input: the input to the action\n",
      "Observation: the result of the action\n",
      "... (this Thought/Action/Action Input/Observation can repeat N times)\n",
      "Thought: I now know the final answer\n",
      "Final Answer: the final answer to the original input question\n",
      "\n",
      "Begin!\n",
      "\n",
      "Question: {input}\n",
      "Thought:{agent_scratchpad}\n"
     ]
    }
   ],
   "source": [
    "from langchain.agents import initialize_agent\n",
    "\n",
    "agent = initialize_agent(tools,\n",
    "                         llm,\n",
    "                         agent=\"zero-shot-react-description\",\n",
    "                         verbose=True)\n",
    "\n",
    "\n",
    "print(agent.agent.llm_chain.prompt.template)"
   ]
  },
  {
   "cell_type": "code",
   "execution_count": 42,
   "metadata": {},
   "outputs": [
    {
     "name": "stderr",
     "output_type": "stream",
     "text": [
      "Error in StdOutCallbackHandler.on_chain_start callback: AttributeError(\"'NoneType' object has no attribute 'get'\")\n"
     ]
    },
    {
     "name": "stdout",
     "output_type": "stream",
     "text": [
      "\u001b[32;1m\u001b[1;3m I don't know who the chief minister of Andhra Pradesh is in 2024. This is a question about the future, so I can't just look it up. I should use bing_search.\n",
      "Action: bing_search\n",
      "Action Input: 'chief minister of andhra pradesh in 2024'\u001b[0m\n",
      "Observation: \u001b[36;1m\u001b[1;3mThe state cabinet <b>of Andhra</b> <b>Pradesh</b> with N. Chandrababu Naidu as the <b>Chief</b> <b>Minister</b> was sworn in on 12 June <b>2024</b>. [1] The swearing-in ceremony took place at 11:27 AM on 12 June <b>2024</b> near Gannavaram Airport, Kesarapalle, Amaravati (). [2]The list of 24 cabinet <b>ministers</b> (excluding the <b>chief</b> <b>minister</b>), were announced on 12 June <b>2024</b> prior to the oath-taking ceremony. [3] The cabinet has twenty one <b>ministers</b> from Telugu Desam Party, three from Janasena Party and one from Bharatiya Janata Party ... <b>Andhra</b> <b>Pradesh</b> Full Cabinet <b>Ministers</b> List <b>2024</b>: A total of 24 <b>ministers</b> along with <b>Andhra</b> <b>Pradesh</b> CM Chandrababu Naidu were inducted in to the Cabinet on Wednesday. The Telugu Desam Party (TDP) president was unanimously elected the National Democratic Alliance’s Leader of the House at a meeting held at Vijayawada on Tuesday. He is taking over the CM’s post for the fourth time after holding the post twice in undivided <b>Andhra</b> <b>Pradesh</b>, and for the second time after the bifurcation of the ... Telugu Desam Party’s national president Nara Chandrababu Naidu is all set to become the <b>Chief</b> <b>Minister</b> <b>of Andhra</b> <b>Pradesh</b> for the fourth time after handing a crushing defeat to Y.S. Jagan Mohan ... TDP <b>chief</b> N. Chandrababu Naidu is set to be sworn in as the <b>chief</b> <b>minister</b> <b>of Andhra</b> <b>Pradesh</b> on June 12 for a fourth term. Governor S. Abdul Nazeer on June 11 invited Mr. Naidu to form the government. N Chandrababu Naidu&#39;s fourth stint as <b>Andhra</b> <b>Pradesh</b> <b>Chief</b> <b>Minister</b> marks a stunning turnaround as it comes months after his arrest in a money laundering case. ... The <b>2024</b> <b>Andhra</b> <b>Pradesh</b> assembly elections resulted in a landslide victory for the National Democratic Alliance (NDA), which snapped up 164 of the 175 seats. TDP alone won 135 seats, while Pawan Kalyan&#39;s Jana Sena secured 21 seats, and the BJP won eight. ... Prime <b>Minister</b> Narendra Modi greets Nara Chandrababu Naidu after he was sworn-in as the <b>Chief</b> <b>Minister</b> <b>of Andhra</b> <b>Pradesh</b>, at a ceremony in Vijayawada, Wednesday, June 12, <b>2024</b>. PTI. Pawan Kalyan ... Prime <b>Minister</b> Narendra Modi with <b>Andhra</b> <b>Pradesh</b> <b>Chief</b> <b>Minister</b> Nara Chandrababu Naidu at the latter’s swearing-in ceremony, in Vijayawada, Wednesday, June 12, <b>2024</b>. | Photo Credit: PTI Telugu Desam Party (TDP) <b>chief</b> N Chandrababu Naidu took oath as the <b>chief</b> <b>minister</b> <b>of Andhra</b> <b>Pradesh</b> for a fourth term at his swearing-in ceremony today. ... June 12, <b>2024</b>. Jun 12, <b>2024</b> 11:42 (IST) In the 175-member <b>Andhra</b> <b>Pradesh</b> Assembly, the Cabinet can have 26 <b>ministers</b>, including the <b>Chief</b> <b>Minister</b>. The Naidu-led TDP won 135 seats on its own while the JSP won 21 and the BJP 8. N Chandrababu Naidu was on Tuesday chosen as the new <b>chief</b> <b>minister</b> <b>of Andhra</b> <b>Pradesh</b> by the MLAs of his Telugu Desam Party as well as legislators of National Democratic Alliance (NDA) allies ...\u001b[0m\n",
      "Thought:\u001b[32;1m\u001b[1;3m I found what I was looking for. Chandrababu Naidu is the Chief Minister of Andhra Pradesh in 2024.\n",
      "Final Answer: {\"response\": \"Chandrababu Naidu\"}\u001b[0m\n",
      "\n",
      "\u001b[1m> Finished chain.\u001b[0m\n"
     ]
    },
    {
     "data": {
      "text/plain": [
       "'{\"response\": \"Chandrababu Naidu\"}'"
      ]
     },
     "execution_count": 42,
     "metadata": {},
     "output_type": "execute_result"
    }
   ],
   "source": [
    "query = \"Who is the chief minister of Andhra Pradesh in 2024? The response MUST be provided as a JSON object with structure {\\\"response\\\": \\\"<chief minister name>\\\"}.\"\n",
    "\n",
    "agent.run(query)"
   ]
  }
 ],
 "metadata": {
  "kernelspec": {
   "display_name": "venv",
   "language": "python",
   "name": "python3"
  },
  "language_info": {
   "codemirror_mode": {
    "name": "ipython",
    "version": 3
   },
   "file_extension": ".py",
   "mimetype": "text/x-python",
   "name": "python",
   "nbconvert_exporter": "python",
   "pygments_lexer": "ipython3",
   "version": "3.12.3"
  }
 },
 "nbformat": 4,
 "nbformat_minor": 2
}
